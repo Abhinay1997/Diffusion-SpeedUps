{
 "cells": [
  {
   "cell_type": "code",
   "execution_count": null,
   "id": "d0697a8d-eb5c-4ab9-8155-0e691e145a4b",
   "metadata": {
    "scrolled": true
   },
   "outputs": [],
   "source": [
    "!pip install huggingface_hub transformers protobuf sentencepiece accelerate peft"
   ]
  },
  {
   "cell_type": "code",
   "execution_count": null,
   "id": "d9aea61c-ac30-4075-829d-d40f72f242f7",
   "metadata": {},
   "outputs": [],
   "source": [
    "!pip install ./diffusers"
   ]
  },
  {
   "cell_type": "code",
   "execution_count": 3,
   "id": "0acffa94-5634-404a-8070-0ae05a91b646",
   "metadata": {},
   "outputs": [
    {
     "data": {
      "application/vnd.jupyter.widget-view+json": {
       "model_id": "6f0ddf8469eb47e0937e357579109127",
       "version_major": 2,
       "version_minor": 0
      },
      "text/plain": [
       "VBox(children=(HTML(value='<center> <img\\nsrc=https://huggingface.co/front/assets/huggingface_logo-noborder.sv…"
      ]
     },
     "metadata": {},
     "output_type": "display_data"
    }
   ],
   "source": [
    "from huggingface_hub import notebook_login\n",
    "notebook_login()"
   ]
  },
  {
   "cell_type": "code",
   "execution_count": null,
   "id": "08f4a12c-ac4c-49f3-b78b-988470c7f4d7",
   "metadata": {},
   "outputs": [],
   "source": [
    "## no_grad -> inference_mode found no speedup.\n",
    "## Adding torch compile 57 sec is base. 39 sec now.\n",
    "## caching the model output -> 29 sec"
   ]
  },
  {
   "cell_type": "code",
   "execution_count": 1,
   "id": "134a380d-e43e-4703-9c00-e7cf30762682",
   "metadata": {},
   "outputs": [
    {
     "data": {
      "application/vnd.jupyter.widget-view+json": {
       "model_id": "342fca654da94371a509fa276b18f6fa",
       "version_major": 2,
       "version_minor": 0
      },
      "text/plain": [
       "Loading pipeline components...:   0%|          | 0/7 [00:00<?, ?it/s]"
      ]
     },
     "metadata": {},
     "output_type": "display_data"
    },
    {
     "name": "stderr",
     "output_type": "stream",
     "text": [
      "You set `add_prefix_space`. The tokenizer needs to be converted from the slow tokenizers\n"
     ]
    },
    {
     "data": {
      "application/vnd.jupyter.widget-view+json": {
       "model_id": "8d1a2fe817a24919b23bb8779ef5d5bb",
       "version_major": 2,
       "version_minor": 0
      },
      "text/plain": [
       "Loading checkpoint shards:   0%|          | 0/2 [00:00<?, ?it/s]"
      ]
     },
     "metadata": {},
     "output_type": "display_data"
    }
   ],
   "source": [
    "import torch\n",
    "# from diffusers import FluxPipeline\n",
    "from pipeline_flux import FluxPipeline\n",
    "from huggingface_hub import hf_hub_download\n",
    "base_model_id = \"black-forest-labs/FLUX.1-dev\"\n",
    "repo_name = \"ByteDance/Hyper-SD\"\n",
    "# Take 8-steps lora as an example\n",
    "ckpt_name = \"Hyper-FLUX.1-dev-8steps-lora.safetensors\"\n",
    "# Load model, please fill in your access tokens since FLUX.1-dev repo is a gated model.\n",
    "pipe = FluxPipeline.from_pretrained(\"black-forest-labs/FLUX.1-dev\", torch_dtype=torch.bfloat16)"
   ]
  },
  {
   "cell_type": "code",
   "execution_count": 2,
   "id": "cd65138b-b7aa-4b99-85f6-99e0a81e929d",
   "metadata": {},
   "outputs": [
    {
     "data": {
      "text/plain": [
       "FluxPipeline {\n",
       "  \"_class_name\": \"FluxPipeline\",\n",
       "  \"_diffusers_version\": \"0.32.0.dev0\",\n",
       "  \"_name_or_path\": \"black-forest-labs/FLUX.1-dev\",\n",
       "  \"scheduler\": [\n",
       "    \"diffusers\",\n",
       "    \"FlowMatchEulerDiscreteScheduler\"\n",
       "  ],\n",
       "  \"text_encoder\": [\n",
       "    \"transformers\",\n",
       "    \"CLIPTextModel\"\n",
       "  ],\n",
       "  \"text_encoder_2\": [\n",
       "    \"transformers\",\n",
       "    \"T5EncoderModel\"\n",
       "  ],\n",
       "  \"tokenizer\": [\n",
       "    \"transformers\",\n",
       "    \"CLIPTokenizer\"\n",
       "  ],\n",
       "  \"tokenizer_2\": [\n",
       "    \"transformers\",\n",
       "    \"T5TokenizerFast\"\n",
       "  ],\n",
       "  \"transformer\": [\n",
       "    \"diffusers\",\n",
       "    \"FluxTransformer2DModel\"\n",
       "  ],\n",
       "  \"vae\": [\n",
       "    \"diffusers\",\n",
       "    \"AutoencoderKL\"\n",
       "  ]\n",
       "}"
      ]
     },
     "execution_count": 2,
     "metadata": {},
     "output_type": "execute_result"
    }
   ],
   "source": [
    "pipe.load_lora_weights(hf_hub_download(repo_name, ckpt_name))\n",
    "pipe.fuse_lora(lora_scale=0.125)\n",
    "pipe.to(\"cuda\", dtype=torch.bfloat16)"
   ]
  },
  {
   "cell_type": "code",
   "execution_count": 3,
   "id": "5cd46024-f72e-4f5b-94a9-5b82b5aa55d2",
   "metadata": {},
   "outputs": [],
   "source": [
    "prompt = \"A cat holding a sign that says hello world\""
   ]
  },
  {
   "cell_type": "code",
   "execution_count": 15,
   "id": "d0fbfa81-3d68-499e-8aba-50c779864c99",
   "metadata": {
    "scrolled": true
   },
   "outputs": [
    {
     "data": {
      "application/vnd.jupyter.widget-view+json": {
       "model_id": "a8db8e06b09a4d95b0c178bec076190a",
       "version_major": 2,
       "version_minor": 0
      },
      "text/plain": [
       "  0%|          | 0/8 [00:00<?, ?it/s]"
      ]
     },
     "metadata": {},
     "output_type": "display_data"
    },
    {
     "name": "stdout",
     "output_type": "stream",
     "text": [
      "CPU times: user 4.03 s, sys: 491 ms, total: 4.52 s\n",
      "Wall time: 3.85 s\n"
     ]
    }
   ],
   "source": [
    "%%time\n",
    "image = pipe(\n",
    "    prompt,\n",
    "    height=720,\n",
    "    width=720,\n",
    "    guidance_scale=3.5,\n",
    "    num_inference_steps=8,\n",
    "    max_sequence_length=512,\n",
    "    generator=torch.Generator(\"cuda\").manual_seed(0),\n",
    "    compile=True,\n",
    "    cache=True\n",
    ").images[0]"
   ]
  },
  {
   "cell_type": "markdown",
   "id": "4743e59b-8ab6-4d89-89b5-617cf54be3a3",
   "metadata": {},
   "source": [
    "\n",
    "| Measured on | Resolution, Steps | Time (sec)<sup>#</sup> |\n",
    "|----------|----------|----------|\n",
    "| Default Pipeline | 1024px, 28 | 33.1 |\n",
    "| With `torch.compile` | 1024px, 28 | 25.1<sup>*</sup>|\n",
    "| With `torch.compile` and model pred caching | 1024px, 28 | 18.1<sup>*</sup> |\n",
    "| HyperSD LoRA With `torch.compile` | 1024px, 8 | 7.42<sup>*</sup> |\n",
    "| HyperSD LoRA With `torch.compile` and model pred caching | 1024px, 8 | 5.68<sup>*</sup> |\n",
    "| Default Pipeline | 512px, 28 | 9.91 |\n",
    "| With `torch.compile` | 512px, 28 | 7.4<sup>*</sup> |\n",
    "| With `torch.compile` and model pred caching | 512px, 28 | 5.61<sup>*</sup> |\n",
    "| HyperSD LoRA With `torch.compile` | 512px, 8 | 2.25<sup>*</sup> |\n",
    "| HyperSD LoRA With `torch.compile` and model pred caching | 512px, 8 | 1.75<sup>*</sup> |\n",
    "\n",
    "<sup>*</sup> Compiliation time not included. <br>\n",
    "<sup>#</sup> Wall time as measured with %%time magic. Not the tqdm measurement."
   ]
  }
 ],
 "metadata": {
  "kernelspec": {
   "display_name": "Python 3 (ipykernel)",
   "language": "python",
   "name": "python3"
  },
  "language_info": {
   "codemirror_mode": {
    "name": "ipython",
    "version": 3
   },
   "file_extension": ".py",
   "mimetype": "text/x-python",
   "name": "python",
   "nbconvert_exporter": "python",
   "pygments_lexer": "ipython3",
   "version": "3.10.12"
  }
 },
 "nbformat": 4,
 "nbformat_minor": 5
}
